{
 "cells": [
  {
   "cell_type": "code",
   "execution_count": 1,
   "metadata": {
    "collapsed": true
   },
   "outputs": [],
   "source": [
    "import numpy as np\n",
    "import pandas as pd\n",
    "import scipy as sp"
   ]
  },
  {
   "cell_type": "code",
   "execution_count": 2,
   "metadata": {
    "collapsed": false
   },
   "outputs": [],
   "source": [
    "%matplotlib inline\n",
    "import matplotlib.pyplot as plt\n",
    "plt.style.use('ggplot')"
   ]
  },
  {
   "cell_type": "code",
   "execution_count": 3,
   "metadata": {
    "collapsed": false
   },
   "outputs": [
    {
     "name": "stdout",
     "output_type": "stream",
     "text": [
      "Writing hw_data.csv\n"
     ]
    }
   ],
   "source": [
    "%%file hw_data.csv\n",
    "id,sex,weight,height\n",
    "1,M,190,77\n",
    "2,F,120,70\n",
    "3,F,110,68\n",
    "4,M,150,72\n",
    "5,O,120,66\n",
    "6,M,120,60\n",
    "7,F,140,70"
   ]
  },
  {
   "cell_type": "markdown",
   "metadata": {},
   "source": [
    "# Python"
   ]
  },
  {
   "cell_type": "markdown",
   "metadata": {},
   "source": [
    "## 1. Finish creating the following function that takes a list and returns the average value."
   ]
  },
  {
   "cell_type": "code",
   "execution_count": 16,
   "metadata": {
    "collapsed": false
   },
   "outputs": [
    {
     "name": "stdout",
     "output_type": "stream",
     "text": [
      "1\n",
      "2\n",
      "1\n",
      "4\n",
      "3\n",
      "2\n",
      "5\n",
      "9\n"
     ]
    },
    {
     "data": {
      "text/plain": [
       "3.375"
      ]
     },
     "execution_count": 16,
     "metadata": {},
     "output_type": "execute_result"
    }
   ],
   "source": [
    "def average(my_list):\n",
    "    total = 0\n",
    "    for item in my_list:\n",
    "        print(item)\n",
    "        total = total+item\n",
    "        avg=total/len(my_list)\n",
    "    \n",
    "    return avg\n",
    "\n",
    "average([1,2,1,4,3,2,5,9])"
   ]
  },
  {
   "cell_type": "markdown",
   "metadata": {},
   "source": [
    "## 2. Using a Dictionary keep track of the count of numbers (or items) from a list"
   ]
  },
  {
   "cell_type": "code",
   "execution_count": 141,
   "metadata": {
    "collapsed": false
   },
   "outputs": [
    {
     "data": {
      "text/plain": [
       "{'count1': 2, 'count2': 2, 'count3': 1, 'count4': 1, 'count5': 1, 'count9': 1}"
      ]
     },
     "execution_count": 141,
     "metadata": {},
     "output_type": "execute_result"
    }
   ],
   "source": [
    "def counts(my_list):\n",
    "    counts = dict()\n",
    "    for item in my_list:\n",
    "        counts[\"count\"+str(item)] = my_list.count(item)\n",
    "        #sorted(counts)\n",
    "    return counts\n",
    "\n",
    "counts([1,2,1,4,3,2,5,9])  "
   ]
  },
  {
   "cell_type": "markdown",
   "metadata": {},
   "source": [
    "## 3.  Using the `counts()` function and the `.split()` function, return a dictionary of most occuring words from the following paragraph. Bonus, remove punctuation from words."
   ]
  },
  {
   "cell_type": "code",
   "execution_count": 204,
   "metadata": {
    "collapsed": false
   },
   "outputs": [
    {
     "data": {
      "text/plain": [
       "{'countAlice': 4,\n",
       " 'countAlice,': 1,\n",
       " 'countAn': 2,\n",
       " 'countAnd': 1,\n",
       " 'countAt': 1,\n",
       " 'countBut': 1,\n",
       " 'countDuchess': 1,\n",
       " 'countDuchess.': 1,\n",
       " 'countFirst,': 1,\n",
       " 'countFish-Footman': 2,\n",
       " 'countFootman': 2,\n",
       " 'countFootman,': 1,\n",
       " 'countFootman’s': 1,\n",
       " 'countFor': 2,\n",
       " 'countFrog-Footman': 1,\n",
       " 'countHe': 1,\n",
       " 'countI': 3,\n",
       " 'countIt': 1,\n",
       " 'countI’m': 1,\n",
       " 'countQueen': 1,\n",
       " 'countQueen.': 1,\n",
       " 'countShe': 1,\n",
       " 'countThe': 2,\n",
       " 'countThen': 1,\n",
       " 'counta': 15,\n",
       " 'countabout,': 1,\n",
       " 'countagainst': 1,\n",
       " 'countall': 3,\n",
       " 'countaloud.': 1,\n",
       " 'countam': 2,\n",
       " 'countand': 16,\n",
       " 'countanother': 1,\n",
       " 'countanswer': 1,\n",
       " 'countany': 1,\n",
       " 'countare': 1,\n",
       " 'countare;': 1,\n",
       " 'countarm': 1,\n",
       " 'countas': 4,\n",
       " 'countat': 6,\n",
       " 'countattending': 1,\n",
       " 'countback': 1,\n",
       " 'countbe': 2,\n",
       " 'countbecause': 3,\n",
       " 'countbeen': 1,\n",
       " 'countbegan': 1,\n",
       " 'countbehind': 1,\n",
       " 'countbetween': 1,\n",
       " 'countboth': 2,\n",
       " 'countbowed': 1,\n",
       " 'countbroke': 1,\n",
       " 'countbroken': 1,\n",
       " 'countby': 3,\n",
       " 'countcalled': 1,\n",
       " 'countcame': 2,\n",
       " 'countcan’t': 1,\n",
       " 'countcertainly': 1,\n",
       " 'countchanging': 1,\n",
       " 'countconsidered': 1,\n",
       " 'countconstant': 1,\n",
       " 'countcould': 2,\n",
       " 'countcrash,': 1,\n",
       " 'countcrept': 1,\n",
       " 'countcroquet.’': 2,\n",
       " 'countcurious': 1,\n",
       " 'countcurled': 1,\n",
       " 'countcurls': 1,\n",
       " 'countdecidedly': 1,\n",
       " 'countdish': 1,\n",
       " 'countdo': 1,\n",
       " 'countdoor': 4,\n",
       " 'countdoor,': 2,\n",
       " 'countentangled': 1,\n",
       " 'countevery': 1,\n",
       " 'countextraordinary': 1,\n",
       " 'counteyes': 2,\n",
       " 'countface': 1,\n",
       " 'countface,': 1,\n",
       " 'countfear': 1,\n",
       " 'countfelt': 1,\n",
       " 'countfish)—and': 1,\n",
       " 'countfootman': 3,\n",
       " 'countfootmen,': 1,\n",
       " 'countfor': 3,\n",
       " 'countfrog;': 1,\n",
       " 'countfrom': 2,\n",
       " 'countget': 2,\n",
       " 'countgoing': 1,\n",
       " 'countgone,': 1,\n",
       " 'countgot': 1,\n",
       " 'countgrazed': 1,\n",
       " 'countgreat': 2,\n",
       " 'countground': 1,\n",
       " 'counthad': 4,\n",
       " 'counthair': 1,\n",
       " 'counthanded': 1,\n",
       " 'counthave': 1,\n",
       " 'counthe': 5,\n",
       " 'counthead.': 1,\n",
       " 'counthead:': 1,\n",
       " 'countheads.': 1,\n",
       " 'counthear': 1,\n",
       " 'counthearing': 1,\n",
       " 'counthelp': 1,\n",
       " 'counther,': 1,\n",
       " 'counther;': 1,\n",
       " 'counthere,’': 1,\n",
       " 'countherself;': 1,\n",
       " 'counthim': 2,\n",
       " 'counthim.': 1,\n",
       " 'counthimself,': 1,\n",
       " 'counthis': 5,\n",
       " 'counthouse': 1,\n",
       " 'counthouse,': 1,\n",
       " 'counthowling': 1,\n",
       " 'countif': 2,\n",
       " 'countin': 7,\n",
       " 'countin?’': 2,\n",
       " 'countinside,': 2,\n",
       " 'countinstance,': 1,\n",
       " 'countinto': 3,\n",
       " 'countinvitation': 2,\n",
       " 'countit': 2,\n",
       " 'countit,’': 1,\n",
       " 'countjudging': 1,\n",
       " 'countjust': 1,\n",
       " 'countkettle': 1,\n",
       " 'countknock,': 1,\n",
       " 'countknocked.': 1,\n",
       " 'countknocking,’': 2,\n",
       " 'countknow': 1,\n",
       " 'countknow.’': 1,\n",
       " 'countknuckles.': 1,\n",
       " 'countlarge': 3,\n",
       " 'countlaughed': 1,\n",
       " 'countlet': 1,\n",
       " 'countletter,': 1,\n",
       " 'countlike': 1,\n",
       " 'countlisten.': 1,\n",
       " 'countlittle': 1,\n",
       " 'countlittle,': 1,\n",
       " 'countlivery': 1,\n",
       " 'countlivery,': 1,\n",
       " 'countlivery:': 1,\n",
       " 'countlooking': 2,\n",
       " 'countloudly': 1,\n",
       " 'countlow,': 1,\n",
       " 'countmaking': 1,\n",
       " 'countmight': 3,\n",
       " 'countminute': 1,\n",
       " 'countmoment': 1,\n",
       " 'countmost': 1,\n",
       " 'countmuch': 1,\n",
       " 'countnear': 1,\n",
       " 'countnearly': 2,\n",
       " 'countnext': 1,\n",
       " 'countnext,': 1,\n",
       " 'countno': 2,\n",
       " 'countnoise': 2,\n",
       " 'countnose,': 1,\n",
       " 'countnoticed,': 1,\n",
       " 'countnow': 1,\n",
       " 'countof': 9,\n",
       " 'counton': 4,\n",
       " 'countone': 2,\n",
       " 'countonly': 1,\n",
       " 'countonly,': 1,\n",
       " 'countopened': 1,\n",
       " 'countopened,': 1,\n",
       " 'countor': 2,\n",
       " 'countorder': 1,\n",
       " 'countother': 1,\n",
       " 'countother,': 1,\n",
       " 'countotherwise,': 1,\n",
       " 'countout': 3,\n",
       " 'countout,': 2,\n",
       " 'countover': 2,\n",
       " 'countpeeped': 1,\n",
       " 'countperhaps': 1,\n",
       " 'countpieces': 1,\n",
       " 'countpieces.': 1,\n",
       " 'countplate': 1,\n",
       " 'countplay': 2,\n",
       " 'countpossibly': 1,\n",
       " 'countpowdered': 1,\n",
       " 'countproducing': 1,\n",
       " 'countquestions.—How': 1,\n",
       " 'countrapped': 1,\n",
       " 'countrate': 1,\n",
       " 'countreasons.': 1,\n",
       " 'countremarked,': 1,\n",
       " 'countrepeated,': 2,\n",
       " 'countround': 1,\n",
       " 'countrun': 1,\n",
       " 'countrunning': 1,\n",
       " 'countsaid': 3,\n",
       " 'countsame': 2,\n",
       " 'countsaying,': 1,\n",
       " 'countsecondly,': 1,\n",
       " 'countsense': 1,\n",
       " 'countshall': 1,\n",
       " 'countshe': 6,\n",
       " 'countside': 1,\n",
       " 'countsit': 1,\n",
       " 'countsitting': 1,\n",
       " 'countskimming': 1,\n",
       " 'countsky': 1,\n",
       " 'countsky.': 1,\n",
       " 'countsneezing,': 1,\n",
       " 'countso': 2,\n",
       " 'countsolemn': 2,\n",
       " 'countsome': 1,\n",
       " 'countsort': 1,\n",
       " 'countspeaking,': 1,\n",
       " 'countstaring': 1,\n",
       " 'countstood': 1,\n",
       " 'countstraight': 1,\n",
       " 'countstupidly': 1,\n",
       " 'countsuch': 1,\n",
       " 'countsuddenly': 1,\n",
       " 'countthat': 3,\n",
       " 'countthe': 32,\n",
       " 'counttheir': 3,\n",
       " 'countthen': 1,\n",
       " 'countthen,’': 1,\n",
       " 'countthere': 1,\n",
       " 'countthey': 1,\n",
       " 'countthey’re': 1,\n",
       " 'countthis': 3,\n",
       " 'countthis,': 1,\n",
       " 'countthought': 1,\n",
       " 'counttime': 1,\n",
       " 'counttimidly': 1,\n",
       " 'countto': 15,\n",
       " 'counttogether.': 1,\n",
       " 'counttomorrow—’': 1,\n",
       " 'counttone,': 2,\n",
       " 'counttop': 1,\n",
       " 'counttrees': 1,\n",
       " 'counttwo': 2,\n",
       " 'countuncivil.': 1,\n",
       " 'countunder': 1,\n",
       " 'countup': 3,\n",
       " 'countus.': 1,\n",
       " 'countuse': 1,\n",
       " 'countvery': 2,\n",
       " 'countwas': 8,\n",
       " 'countway': 1,\n",
       " 'countwe': 1,\n",
       " 'countwent': 2,\n",
       " 'countwere': 1,\n",
       " 'countwhat': 2,\n",
       " 'countwhen': 2,\n",
       " 'countwith': 2,\n",
       " 'countwithin—a': 1,\n",
       " 'countwithout': 1,\n",
       " 'countwondering': 1,\n",
       " 'countwood': 2,\n",
       " 'countwood—(she': 1,\n",
       " 'countwords': 1,\n",
       " 'countwould': 1,\n",
       " 'countyou': 5,\n",
       " 'countyou.’': 1,\n",
       " 'countyour': 1,\n",
       " 'count‘But': 1,\n",
       " 'count‘For': 1,\n",
       " 'count‘From': 1,\n",
       " 'count‘I': 1,\n",
       " 'count‘Please,': 1,\n",
       " 'count‘There': 1,\n",
       " 'count‘There’s': 1,\n",
       " 'count‘and': 1,\n",
       " 'count‘his': 1,\n",
       " 'count‘how': 1,\n",
       " 'count‘if': 1,\n",
       " 'count‘till': 1}"
      ]
     },
     "execution_count": 204,
     "metadata": {},
     "output_type": "execute_result"
    }
   ],
   "source": [
    "import string\n",
    "paragraph_text = '''\n",
    "For a minute or two she stood looking at the house, and wondering what to do next, when suddenly a footman in livery came running out of the wood—(she considered him to be a footman because he was in livery: otherwise, judging by his face only, she would have called him a fish)—and rapped loudly at the door with his knuckles. It was opened by another footman in livery, with a round face, and large eyes like a frog; and both footmen, Alice noticed, had powdered hair that curled all over their heads. She felt very curious to know what it was all about, and crept a little way out of the wood to listen.\n",
    "The Fish-Footman began by producing from under his arm a great letter, nearly as large as himself, and this he handed over to the other, saying, in a solemn tone, ‘For the Duchess. An invitation from the Queen to play croquet.’ The Frog-Footman repeated, in the same solemn tone, only changing the order of the words a little, ‘From the Queen. An invitation for the Duchess to play croquet.’\n",
    "Then they both bowed low, and their curls got entangled together.\n",
    "Alice laughed so much at this, that she had to run back into the wood for fear of their hearing her; and when she next peeped out the Fish-Footman was gone, and the other was sitting on the ground near the door, staring stupidly up into the sky.\n",
    "Alice went timidly up to the door, and knocked.\n",
    "‘There’s no sort of use in knocking,’ said the Footman, ‘and that for two reasons. First, because I’m on the same side of the door as you are; secondly, because they’re making such a noise inside, no one could possibly hear you.’ And certainly there was a most extraordinary noise going on within—a constant howling and sneezing, and every now and then a great crash, as if a dish or kettle had been broken to pieces.\n",
    "‘Please, then,’ said Alice, ‘how am I to get in?’\n",
    "‘There might be some sense in your knocking,’ the Footman went on without attending to her, ‘if we had the door between us. For instance, if you were inside, you might knock, and I could let you out, you know.’ He was looking up into the sky all the time he was speaking, and this Alice thought decidedly uncivil. ‘But perhaps he can’t help it,’ she said to herself; ‘his eyes are so very nearly at the top of his head. But at any rate he might answer questions.—How am I to get in?’ she repeated, aloud.\n",
    "‘I shall sit here,’ the Footman remarked, ‘till tomorrow—’\n",
    "At this moment the door of the house opened, and a large plate came skimming out, straight at the Footman’s head: it just grazed his nose, and broke to pieces against one of the trees behind him.'''\n",
    "\n",
    "#paragraph_text.translate(None, string.punctuation)\n",
    "wordcount = counts(paragraph_text.split())\n",
    "wordcount"
   ]
  },
  {
   "cell_type": "markdown",
   "metadata": {},
   "source": [
    "## 4. Read in a file and write each line from the file to a new file Title-ized\n",
    "\n",
    "`This is the first line` ->  `This Is The First Line`\n",
    "\n",
    "Hint: There's a function to do this"
   ]
  },
  {
   "cell_type": "code",
   "execution_count": 244,
   "metadata": {
    "collapsed": false
   },
   "outputs": [
    {
     "name": "stdout",
     "output_type": "stream",
     "text": [
      "['“I Think A Hero Is An Ordinary Individual Who Finds Strength To Persevere And Endure In Spite Of Overwhelming Obstacles.” —Christopher Reeve (1952-2004)']\n",
      "['“Kites Rise Highest Against The Wind, Not With It.” —Sir Winston Churchill (1874-1965)']\n",
      "['“The Best Way Out Is Always Through.” —Robert Frost (1874-1963)']\n"
     ]
    }
   ],
   "source": [
    "results = []\n",
    "with open(\"/Users/catherinerivers/Documents/Cat/JHU/MLNN/quotes.txt\") as inputfile:\n",
    "    for line in inputfile:\n",
    "        results.append(line.strip().split('/n'))\n",
    "results\n",
    "\n",
    "     \n",
    "for item in results:\n",
    "    print(str(item).title())\n",
    "    \n"
   ]
  },
  {
   "cell_type": "markdown",
   "metadata": {},
   "source": [
    "# Numpy"
   ]
  },
  {
   "cell_type": "markdown",
   "metadata": {},
   "source": [
    "## 1. Given a list, find the average using a numpy function. "
   ]
  },
  {
   "cell_type": "code",
   "execution_count": 245,
   "metadata": {
    "collapsed": false
   },
   "outputs": [
    {
     "data": {
      "text/plain": [
       "3.375"
      ]
     },
     "execution_count": 245,
     "metadata": {},
     "output_type": "execute_result"
    }
   ],
   "source": [
    "simple_list = [1,2,1,4,3,2,5,9]\n",
    "np.average(simple_list)\n"
   ]
  },
  {
   "cell_type": "markdown",
   "metadata": {},
   "source": [
    "## 2. Given two lists of Heights and Weights of individual, calculate the BMI of those individuals, without writing a `for-loop`"
   ]
  },
  {
   "cell_type": "code",
   "execution_count": 262,
   "metadata": {
    "collapsed": false
   },
   "outputs": [
    {
     "name": "stdout",
     "output_type": "stream",
     "text": [
      "[ 29.06592681  27.73229978  30.73941662  24.16326531  26.33288875]\n"
     ]
    }
   ],
   "source": [
    "heights = [174, 173, 173, 175, 171]\n",
    "weights = [88, 83, 92, 74, 77]\n",
    "meterheights = np.array(heights)/100\n",
    "kgweights = np.array(weights)\n",
    "BMIreadyheights = meterheights**2\n",
    "BMI=kgweights/BMIreadyheights\n",
    "print(BMI)"
   ]
  },
  {
   "cell_type": "markdown",
   "metadata": {},
   "source": [
    "## 3. Create an array of length 20 filled with random values (between 0 to 1) "
   ]
  },
  {
   "cell_type": "code",
   "execution_count": 266,
   "metadata": {
    "collapsed": false
   },
   "outputs": [
    {
     "data": {
      "text/plain": [
       "array([ 0.        ,  0.05263158,  0.10526316,  0.15789474,  0.21052632,\n",
       "        0.26315789,  0.31578947,  0.36842105,  0.42105263,  0.47368421,\n",
       "        0.52631579,  0.57894737,  0.63157895,  0.68421053,  0.73684211,\n",
       "        0.78947368,  0.84210526,  0.89473684,  0.94736842,  1.        ])"
      ]
     },
     "execution_count": 266,
     "metadata": {},
     "output_type": "execute_result"
    }
   ],
   "source": [
    "x=np.linspace(0,1,num=20)\n",
    "x"
   ]
  },
  {
   "cell_type": "markdown",
   "metadata": {},
   "source": [
    "## Bonus. 1. Create an array with a large (>1000) length filled with random numbers from different distributions (normal, uniform, etc.). 2. Then, plot a histogram of these values. "
   ]
  },
  {
   "cell_type": "code",
   "execution_count": 277,
   "metadata": {
    "collapsed": false
   },
   "outputs": [
    {
     "data": {
      "text/plain": [
       "([array([ 3.,  1.,  3.,  3.,  7.,  4.,  5.,  3.,  4.,  2.]),\n",
       "  array([ 0.,  5.,  7.,  4.,  1.,  5.,  7.,  2.,  3.,  1.]),\n",
       "  array([ 2.,  5.,  3.,  3.,  3.,  4.,  1.,  2.,  8.,  4.]),\n",
       "  array([ 2.,  6.,  2.,  4.,  4.,  3.,  4.,  6.,  2.,  2.]),\n",
       "  array([ 2.,  3.,  3.,  5.,  6.,  3.,  2.,  6.,  3.,  2.]),\n",
       "  array([ 3.,  2.,  4.,  3.,  2.,  7.,  3.,  2.,  3.,  6.]),\n",
       "  array([ 2.,  2.,  2.,  6.,  5.,  3.,  2.,  2.,  8.,  3.]),\n",
       "  array([ 2.,  2.,  4.,  4.,  2.,  3.,  2.,  7.,  5.,  4.]),\n",
       "  array([ 2.,  6.,  3.,  5.,  2.,  3.,  4.,  6.,  3.,  1.]),\n",
       "  array([ 2.,  1.,  5.,  3.,  3.,  4.,  4.,  2.,  2.,  9.]),\n",
       "  array([ 3.,  4.,  5.,  2.,  2.,  3.,  3.,  3.,  5.,  5.]),\n",
       "  array([ 3.,  6.,  1.,  1.,  4.,  3.,  3.,  5.,  6.,  3.]),\n",
       "  array([ 6.,  5.,  1.,  1.,  5.,  3.,  1.,  6.,  5.,  2.]),\n",
       "  array([ 4.,  5.,  1.,  2.,  2.,  7.,  1.,  3.,  6.,  4.]),\n",
       "  array([ 2.,  5.,  3.,  5.,  3.,  4.,  4.,  2.,  4.,  3.]),\n",
       "  array([ 1.,  5.,  2.,  6.,  7.,  4.,  1.,  5.,  2.,  2.]),\n",
       "  array([ 3.,  2.,  1.,  7.,  5.,  3.,  5.,  4.,  2.,  3.]),\n",
       "  array([ 3.,  5.,  5.,  1.,  5.,  2.,  0.,  3.,  6.,  5.]),\n",
       "  array([ 6.,  4.,  8.,  2.,  3.,  4.,  3.,  3.,  0.,  2.]),\n",
       "  array([ 4.,  4.,  4.,  0.,  4.,  6.,  3.,  4.,  2.,  4.]),\n",
       "  array([ 5.,  4.,  3.,  5.,  4.,  3.,  5.,  2.,  2.,  2.]),\n",
       "  array([ 4.,  1.,  5.,  2.,  3.,  1.,  7.,  5.,  4.,  3.]),\n",
       "  array([ 3.,  2.,  5.,  3.,  3.,  5.,  2.,  6.,  3.,  3.]),\n",
       "  array([ 1.,  3.,  2.,  3.,  5.,  3.,  4.,  5.,  6.,  3.]),\n",
       "  array([ 4.,  5.,  4.,  3.,  4.,  7.,  1.,  2.,  4.,  1.]),\n",
       "  array([ 2.,  4.,  4.,  5.,  4.,  2.,  3.,  6.,  1.,  4.]),\n",
       "  array([ 3.,  3.,  2.,  6.,  5.,  1.,  3.,  2.,  5.,  5.]),\n",
       "  array([ 4.,  2.,  2.,  2.,  3.,  6.,  8.,  2.,  3.,  3.]),\n",
       "  array([ 8.,  4.,  4.,  2.,  6.,  1.,  3.,  2.,  3.,  2.]),\n",
       "  array([ 1.,  1.,  5.,  7.,  3.,  3.,  5.,  4.,  2.,  4.]),\n",
       "  array([ 1.,  6.,  1.,  2.,  2.,  2.,  7.,  2.,  6.,  6.]),\n",
       "  array([ 4.,  6.,  2.,  5.,  5.,  4.,  0.,  3.,  1.,  5.]),\n",
       "  array([ 2.,  7.,  1.,  2.,  3.,  5.,  2.,  4.,  3.,  6.]),\n",
       "  array([ 6.,  3.,  6.,  2.,  5.,  2.,  0.,  2.,  4.,  5.]),\n",
       "  array([ 5.,  3.,  5.,  4.,  1.,  1.,  4.,  5.,  5.,  2.])],\n",
       " array([  3.06505516e-04,   1.00242192e-01,   2.00177879e-01,\n",
       "          3.00113566e-01,   4.00049253e-01,   4.99984940e-01,\n",
       "          5.99920627e-01,   6.99856314e-01,   7.99792000e-01,\n",
       "          8.99727687e-01,   9.99663374e-01]),\n",
       " <a list of 35 Lists of Patches objects>)"
      ]
     },
     "execution_count": 277,
     "metadata": {},
     "output_type": "execute_result"
    },
    {
     "data": {
      "image/png": "[encoded data removed]",
      "text/plain": [
       "<matplotlib.figure.Figure at 0x1181e9b38>"
      ]
     },
     "metadata": {},
     "output_type": "display_data"
    }
   ],
   "source": [
    "# uniform random numbers in [0,1]\n",
    "x=np.random.rand(35,35)\n",
    "plt.hist(x)"
   ]
  },
  {
   "cell_type": "code",
   "execution_count": 278,
   "metadata": {
    "collapsed": false
   },
   "outputs": [
    {
     "data": {
      "text/plain": [
       "([array([  0.,   0.,   4.,   5.,   6.,  10.,   5.,   4.,   1.,   0.]),\n",
       "  array([ 0.,  2.,  4.,  8.,  6.,  5.,  7.,  2.,  1.,  0.]),\n",
       "  array([ 0.,  0.,  3.,  7.,  6.,  9.,  3.,  6.,  1.,  0.]),\n",
       "  array([  1.,   1.,   2.,   5.,  10.,   4.,   6.,   5.,   1.,   0.]),\n",
       "  array([  1.,   0.,   1.,   4.,   7.,  10.,   9.,   2.,   1.,   0.]),\n",
       "  array([ 2.,  2.,  2.,  7.,  4.,  8.,  6.,  2.,  2.,  0.]),\n",
       "  array([ 0.,  1.,  4.,  6.,  4.,  9.,  8.,  3.,  0.,  0.]),\n",
       "  array([ 0.,  0.,  3.,  6.,  8.,  9.,  3.,  5.,  1.,  0.]),\n",
       "  array([  0.,   1.,   1.,   8.,   7.,  10.,   5.,   3.,   0.,   0.]),\n",
       "  array([ 0.,  0.,  3.,  7.,  7.,  8.,  6.,  3.,  1.,  0.]),\n",
       "  array([  0.,   1.,   5.,  10.,   5.,   6.,   6.,   0.,   1.,   1.]),\n",
       "  array([ 0.,  3.,  3.,  5.,  8.,  5.,  6.,  3.,  1.,  1.]),\n",
       "  array([  0.,   0.,   3.,   7.,  10.,   5.,   4.,   4.,   1.,   1.]),\n",
       "  array([ 0.,  2.,  4.,  5.,  6.,  7.,  4.,  4.,  2.,  1.]),\n",
       "  array([  1.,   0.,   2.,   6.,   5.,  10.,   6.,   3.,   2.,   0.]),\n",
       "  array([ 1.,  2.,  1.,  7.,  5.,  7.,  7.,  3.,  2.,  0.]),\n",
       "  array([  0.,   2.,   3.,   4.,  11.,   7.,   6.,   1.,   1.,   0.]),\n",
       "  array([  0.,   1.,   2.,   3.,  12.,   9.,   5.,   1.,   1.,   1.]),\n",
       "  array([  0.,   1.,   3.,   5.,   8.,  10.,   4.,   3.,   1.,   0.]),\n",
       "  array([ 0.,  5.,  2.,  4.,  5.,  9.,  7.,  2.,  1.,  0.]),\n",
       "  array([  0.,   0.,   2.,   7.,  10.,   7.,   5.,   0.,   2.,   2.]),\n",
       "  array([ 0.,  0.,  7.,  7.,  8.,  6.,  2.,  4.,  0.,  1.]),\n",
       "  array([  0.,   1.,   2.,   2.,   3.,   9.,  11.,   4.,   2.,   1.]),\n",
       "  array([  0.,   2.,   5.,   4.,   7.,  10.,   5.,   2.,   0.,   0.]),\n",
       "  array([  0.,   0.,   2.,   4.,   9.,  12.,   4.,   3.,   1.,   0.]),\n",
       "  array([ 1.,  0.,  5.,  5.,  6.,  8.,  5.,  4.,  1.,  0.]),\n",
       "  array([  0.,   2.,   1.,   9.,  12.,   5.,   4.,   1.,   1.,   0.]),\n",
       "  array([  0.,   1.,   2.,   4.,  11.,   8.,   4.,   3.,   2.,   0.]),\n",
       "  array([  0.,   0.,   3.,   7.,  10.,   9.,   4.,   0.,   1.,   1.]),\n",
       "  array([  0.,   1.,   3.,   5.,   7.,   7.,  10.,   1.,   1.,   0.]),\n",
       "  array([ 1.,  0.,  4.,  6.,  7.,  9.,  3.,  5.,  0.,  0.]),\n",
       "  array([ 2.,  0.,  3.,  2.,  9.,  6.,  6.,  7.,  0.,  0.]),\n",
       "  array([ 0.,  1.,  4.,  7.,  7.,  1.,  8.,  5.,  1.,  1.]),\n",
       "  array([  2.,   3.,   2.,   5.,  10.,   5.,   6.,   0.,   0.,   2.]),\n",
       "  array([ 1.,  0.,  4.,  3.,  9.,  9.,  4.,  3.,  2.,  0.])],\n",
       " array([-2.98190451, -2.38336232, -1.78482014, -1.18627796, -0.58773578,\n",
       "         0.0108064 ,  0.60934858,  1.20789077,  1.80643295,  2.40497513,\n",
       "         3.00351731]),\n",
       " <a list of 35 Lists of Patches objects>)"
      ]
     },
     "execution_count": 278,
     "metadata": {},
     "output_type": "execute_result"
    },
    {
     "data": {
      "image/png": "[encoded data removed]",
      "text/plain": [
       "<matplotlib.figure.Figure at 0x124e1bc18>"
      ]
     },
     "metadata": {},
     "output_type": "display_data"
    }
   ],
   "source": [
    "# standard normal distributed random numbers\n",
    "y=np.random.randn(35,35)\n",
    "plt.hist(y)"
   ]
  },
  {
   "cell_type": "markdown",
   "metadata": {},
   "source": [
    "# Pandas"
   ]
  },
  {
   "cell_type": "markdown",
   "metadata": {},
   "source": [
    "## 1. Read in a CSV () and display all the columns and their respective data types "
   ]
  },
  {
   "cell_type": "code",
   "execution_count": 280,
   "metadata": {
    "collapsed": false
   },
   "outputs": [
    {
     "data": {
      "text/html": [
       "<div>\n",
       "<table border=\"1\" class=\"dataframe\">\n",
       "  <thead>\n",
       "    <tr style=\"text-align: right;\">\n",
       "      <th></th>\n",
       "      <th>id</th>\n",
       "      <th>sex</th>\n",
       "      <th>weight</th>\n",
       "      <th>height</th>\n",
       "    </tr>\n",
       "  </thead>\n",
       "  <tbody>\n",
       "    <tr>\n",
       "      <th>0</th>\n",
       "      <td>1</td>\n",
       "      <td>M</td>\n",
       "      <td>190</td>\n",
       "      <td>77</td>\n",
       "    </tr>\n",
       "    <tr>\n",
       "      <th>1</th>\n",
       "      <td>2</td>\n",
       "      <td>F</td>\n",
       "      <td>120</td>\n",
       "      <td>70</td>\n",
       "    </tr>\n",
       "    <tr>\n",
       "      <th>2</th>\n",
       "      <td>3</td>\n",
       "      <td>F</td>\n",
       "      <td>110</td>\n",
       "      <td>68</td>\n",
       "    </tr>\n",
       "    <tr>\n",
       "      <th>3</th>\n",
       "      <td>4</td>\n",
       "      <td>M</td>\n",
       "      <td>150</td>\n",
       "      <td>72</td>\n",
       "    </tr>\n",
       "    <tr>\n",
       "      <th>4</th>\n",
       "      <td>5</td>\n",
       "      <td>O</td>\n",
       "      <td>120</td>\n",
       "      <td>66</td>\n",
       "    </tr>\n",
       "    <tr>\n",
       "      <th>5</th>\n",
       "      <td>6</td>\n",
       "      <td>M</td>\n",
       "      <td>120</td>\n",
       "      <td>60</td>\n",
       "    </tr>\n",
       "    <tr>\n",
       "      <th>6</th>\n",
       "      <td>7</td>\n",
       "      <td>F</td>\n",
       "      <td>140</td>\n",
       "      <td>70</td>\n",
       "    </tr>\n",
       "  </tbody>\n",
       "</table>\n",
       "</div>"
      ],
      "text/plain": [
       "   id sex  weight  height\n",
       "0   1   M     190      77\n",
       "1   2   F     120      70\n",
       "2   3   F     110      68\n",
       "3   4   M     150      72\n",
       "4   5   O     120      66\n",
       "5   6   M     120      60\n",
       "6   7   F     140      70"
      ]
     },
     "execution_count": 280,
     "metadata": {},
     "output_type": "execute_result"
    }
   ],
   "source": [
    "df = pd.read_csv('/Users/catherinerivers/Documents/Cat/JHU/MLNN/mlnn/assignments/hw_data.csv')\n",
    "df"
   ]
  },
  {
   "cell_type": "markdown",
   "metadata": {},
   "source": [
    "## 2. Find the average weight "
   ]
  },
  {
   "cell_type": "code",
   "execution_count": 300,
   "metadata": {
    "collapsed": false
   },
   "outputs": [
    {
     "name": "stdout",
     "output_type": "stream",
     "text": [
      "id         int64\n",
      "sex       object\n",
      "weight     int64\n",
      "height     int64\n",
      "dtype: object\n"
     ]
    },
    {
     "data": {
      "text/plain": [
       "id          4.000000\n",
       "weight    135.714286\n",
       "height     69.000000\n",
       "dtype: float64"
      ]
     },
     "execution_count": 300,
     "metadata": {},
     "output_type": "execute_result"
    }
   ],
   "source": [
    "print(df.dtypes)\n",
    "df.mean()"
   ]
  },
  {
   "cell_type": "markdown",
   "metadata": {},
   "source": [
    "## 3. Find the Value Counts on column `sex` "
   ]
  },
  {
   "cell_type": "code",
   "execution_count": 305,
   "metadata": {
    "collapsed": false
   },
   "outputs": [
    {
     "data": {
      "text/plain": [
       "M    3\n",
       "F    3\n",
       "O    1\n",
       "Name: sex, dtype: int64"
      ]
     },
     "execution_count": 305,
     "metadata": {},
     "output_type": "execute_result"
    }
   ],
   "source": [
    "pd.value_counts(df.sex)"
   ]
  },
  {
   "cell_type": "markdown",
   "metadata": {},
   "source": [
    "## 4. Plot Height vs. Weight "
   ]
  },
  {
   "cell_type": "code",
   "execution_count": 317,
   "metadata": {
    "collapsed": false
   },
   "outputs": [
    {
     "data": {
      "text/plain": [
       "<matplotlib.collections.PathCollection at 0x125df77f0>"
      ]
     },
     "execution_count": 317,
     "metadata": {},
     "output_type": "execute_result"
    },
    {
     "data": {
      "image/png": "[encoded data removed]",
      "text/plain": [
       "<matplotlib.figure.Figure at 0x125e94b38>"
      ]
     },
     "metadata": {},
     "output_type": "display_data"
    }
   ],
   "source": [
    "plt.scatter(df.height, df.weight)"
   ]
  },
  {
   "cell_type": "markdown",
   "metadata": {},
   "source": [
    "## 5. Calculate BMI and save as a new column"
   ]
  },
  {
   "cell_type": "code",
   "execution_count": 318,
   "metadata": {
    "collapsed": false
   },
   "outputs": [
    {
     "data": {
      "text/html": [
       "<div>\n",
       "<table border=\"1\" class=\"dataframe\">\n",
       "  <thead>\n",
       "    <tr style=\"text-align: right;\">\n",
       "      <th></th>\n",
       "      <th>id</th>\n",
       "      <th>sex</th>\n",
       "      <th>weight</th>\n",
       "      <th>height</th>\n",
       "      <th>BMI</th>\n",
       "    </tr>\n",
       "  </thead>\n",
       "  <tbody>\n",
       "    <tr>\n",
       "      <th>0</th>\n",
       "      <td>1</td>\n",
       "      <td>M</td>\n",
       "      <td>190</td>\n",
       "      <td>77</td>\n",
       "      <td>22.528251</td>\n",
       "    </tr>\n",
       "    <tr>\n",
       "      <th>1</th>\n",
       "      <td>2</td>\n",
       "      <td>F</td>\n",
       "      <td>120</td>\n",
       "      <td>70</td>\n",
       "      <td>17.216327</td>\n",
       "    </tr>\n",
       "    <tr>\n",
       "      <th>2</th>\n",
       "      <td>3</td>\n",
       "      <td>F</td>\n",
       "      <td>110</td>\n",
       "      <td>68</td>\n",
       "      <td>16.723616</td>\n",
       "    </tr>\n",
       "    <tr>\n",
       "      <th>3</th>\n",
       "      <td>4</td>\n",
       "      <td>M</td>\n",
       "      <td>150</td>\n",
       "      <td>72</td>\n",
       "      <td>20.341435</td>\n",
       "    </tr>\n",
       "    <tr>\n",
       "      <th>4</th>\n",
       "      <td>5</td>\n",
       "      <td>O</td>\n",
       "      <td>120</td>\n",
       "      <td>66</td>\n",
       "      <td>19.366391</td>\n",
       "    </tr>\n",
       "    <tr>\n",
       "      <th>5</th>\n",
       "      <td>6</td>\n",
       "      <td>M</td>\n",
       "      <td>120</td>\n",
       "      <td>60</td>\n",
       "      <td>23.433333</td>\n",
       "    </tr>\n",
       "    <tr>\n",
       "      <th>6</th>\n",
       "      <td>7</td>\n",
       "      <td>F</td>\n",
       "      <td>140</td>\n",
       "      <td>70</td>\n",
       "      <td>20.085714</td>\n",
       "    </tr>\n",
       "  </tbody>\n",
       "</table>\n",
       "</div>"
      ],
      "text/plain": [
       "   id sex  weight  height        BMI\n",
       "0   1   M     190      77  22.528251\n",
       "1   2   F     120      70  17.216327\n",
       "2   3   F     110      68  16.723616\n",
       "3   4   M     150      72  20.341435\n",
       "4   5   O     120      66  19.366391\n",
       "5   6   M     120      60  23.433333\n",
       "6   7   F     140      70  20.085714"
      ]
     },
     "execution_count": 318,
     "metadata": {},
     "output_type": "execute_result"
    }
   ],
   "source": [
    "BMI=(df.weight/(df.height**2))*703\n",
    "df['BMI']=BMI\n",
    "df"
   ]
  },
  {
   "cell_type": "markdown",
   "metadata": {},
   "source": [
    "## 6. Save sheet as a new CSV file `hw_dataB.csv`"
   ]
  },
  {
   "cell_type": "code",
   "execution_count": 319,
   "metadata": {
    "collapsed": true
   },
   "outputs": [],
   "source": [
    "df.to_csv('hw_dataB.csv')"
   ]
  },
  {
   "cell_type": "markdown",
   "metadata": {},
   "source": [
    "## Run the following"
   ]
  },
  {
   "cell_type": "code",
   "execution_count": 320,
   "metadata": {
    "collapsed": false
   },
   "outputs": [
    {
     "name": "stdout",
     "output_type": "stream",
     "text": [
      ",id,sex,weight,height,BMI\r\n",
      "0,1,M,190,77,22.52825096980941\r\n",
      "1,2,F,120,70,17.216326530612243\r\n",
      "2,3,F,110,68,16.72361591695502\r\n",
      "3,4,M,150,72,20.341435185185187\r\n",
      "4,5,O,120,66,19.366391184573004\r\n",
      "5,6,M,120,60,23.433333333333334\r\n",
      "6,7,F,140,70,20.085714285714285\r\n"
     ]
    }
   ],
   "source": [
    "!cat hw_dataB.csv"
   ]
  },
  {
   "cell_type": "code",
   "execution_count": null,
   "metadata": {
    "collapsed": true
   },
   "outputs": [],
   "source": []
  }
 ],
 "metadata": {
  "kernelspec": {
   "display_name": "Python 3",
   "language": "python",
   "name": "python3"
  },
  "language_info": {
   "codemirror_mode": {
    "name": "ipython",
    "version": 3
   },
   "file_extension": ".py",
   "mimetype": "text/x-python",
   "name": "python",
   "nbconvert_exporter": "python",
   "pygments_lexer": "ipython3",
   "version": "3.6.0"
  }
 },
 "nbformat": 4,
 "nbformat_minor": 1
}
